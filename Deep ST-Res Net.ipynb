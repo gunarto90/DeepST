{
 "cells": [
  {
   "cell_type": "code",
   "execution_count": 1,
   "metadata": {},
   "outputs": [
    {
     "name": "stderr",
     "output_type": "stream",
     "text": [
      "Using TensorFlow backend.\n",
      "C:\\Users\\gunarton\\AppData\\Local\\Continuum\\anaconda3\\envs\\py3\\lib\\site-packages\\google\\protobuf\\descriptor.py:47: DeprecationWarning: Using or importing the ABCs from 'collections' instead of from 'collections.abc' is deprecated, and in 3.8 it will stop working\n",
      "  from google.protobuf.pyext import _message\n",
      "C:\\Users\\gunarton\\AppData\\Local\\Continuum\\anaconda3\\envs\\py3\\lib\\site-packages\\tensorflow\\python\\util\\nest.py:1287: DeprecationWarning: Using or importing the ABCs from 'collections' instead of from 'collections.abc' is deprecated, and in 3.8 it will stop working\n",
      "  _pywrap_tensorflow.RegisterType(\"Sequence\", _collections.Sequence)\n",
      "C:\\Users\\gunarton\\AppData\\Local\\Continuum\\anaconda3\\envs\\py3\\lib\\site-packages\\tensorflow\\python\\training\\tracking\\object_identity.py:61: DeprecationWarning: Using or importing the ABCs from 'collections' instead of from 'collections.abc' is deprecated, and in 3.8 it will stop working\n",
      "  class ObjectIdentityDictionary(collections.MutableMapping):\n",
      "C:\\Users\\gunarton\\AppData\\Local\\Continuum\\anaconda3\\envs\\py3\\lib\\site-packages\\tensorflow\\python\\keras\\backend.py:5506: ResourceWarning: unclosed file <_io.TextIOWrapper name='C:\\\\Users\\\\gunarton\\\\.keras\\\\keras.json' mode='r' encoding='cp1252'>\n",
      "  _config = json.load(open(_config_path))\n",
      "ResourceWarning: Enable tracemalloc to get the object allocation traceback\n",
      "C:\\Users\\gunarton\\AppData\\Local\\Continuum\\anaconda3\\envs\\py3\\lib\\site-packages\\keras\\callbacks\\callbacks.py:19: DeprecationWarning: Using or importing the ABCs from 'collections' instead of from 'collections.abc' is deprecated, and in 3.8 it will stop working\n",
      "  from collections import Iterable\n"
     ]
    }
   ],
   "source": [
    "from deepst.datasets.TaxiBJ import load_data\n",
    "from deepst.config import Config\n",
    "from deepst.models.STResNet import stresnet\n",
    "from deepst.metrics import rmse\n",
    "from sklearn.model_selection import train_test_split"
   ]
  },
  {
   "cell_type": "code",
   "execution_count": 2,
   "metadata": {},
   "outputs": [],
   "source": [
    "config = Config()"
   ]
  },
  {
   "cell_type": "code",
   "execution_count": 3,
   "metadata": {},
   "outputs": [],
   "source": [
    "### Dataset configuration\n",
    "N_FLOW = 2\n",
    "GRID_HEIGHT = 32\n",
    "GRID_WIDTH = 32"
   ]
  },
  {
   "cell_type": "code",
   "execution_count": 4,
   "metadata": {},
   "outputs": [],
   "source": [
    "### Hyperparameters (Can be tuned)\n",
    "N_TEST = 48 * 5 * 4 # 4 weeks -- somehow\n",
    "N_CLOSE = 3    # {3, 4, 5}\n",
    "N_PERIOD = 3   # {1, 2, 3, 4}\n",
    "N_TREND = 3    # {1, 2, 3, 4}\n",
    "\n",
    "N_RESIDUAL = 12"
   ]
  },
  {
   "cell_type": "code",
   "execution_count": 5,
   "metadata": {},
   "outputs": [],
   "source": [
    "c_conf = (N_CLOSE, N_FLOW, GRID_HEIGHT, GRID_WIDTH)\n",
    "p_conf = (N_PERIOD, N_FLOW, GRID_HEIGHT, GRID_WIDTH)\n",
    "t_conf = (N_TREND, N_FLOW, GRID_HEIGHT, GRID_WIDTH)"
   ]
  },
  {
   "cell_type": "code",
   "execution_count": null,
   "metadata": {
    "scrolled": true
   },
   "outputs": [],
   "source": [
    "X_train, Y_train, X_test, Y_test, mmn, metadata_dim, timestamp_train, timestamp_test = load_data(len_closeness=N_CLOSE, len_period=N_PERIOD, len_trend=N_TREND, len_test=N_TEST)"
   ]
  },
  {
   "cell_type": "code",
   "execution_count": null,
   "metadata": {},
   "outputs": [],
   "source": [
    "### Evaluate the testing time window (4 weeks)\n",
    "timestamp_test[0], timestamp_test[-1]"
   ]
  },
  {
   "cell_type": "code",
   "execution_count": null,
   "metadata": {},
   "outputs": [],
   "source": [
    "model = stresnet(c_conf=c_conf, p_conf=p_conf, t_conf=t_conf, external_dim=metadata_dim, nb_residual_unit=N_RESIDUAL)\n",
    "model.compile(loss='mean_squared_error', optimizer='adam', metrics=[rmse])\n",
    "model.summary()"
   ]
  },
  {
   "cell_type": "code",
   "execution_count": null,
   "metadata": {
    "scrolled": true
   },
   "outputs": [],
   "source": [
    "### Execute the training process\n",
    "batch_size = 32\n",
    "epochs = 5\n",
    "history = model.fit(X_train, Y_train, validation_split=0.1, epochs=epochs, batch_size=batch_size)"
   ]
  },
  {
   "cell_type": "code",
   "execution_count": null,
   "metadata": {},
   "outputs": [],
   "source": [
    "# list all data in history\n",
    "print(history.history.keys())\n",
    "# summarize history for accuracy\n",
    "# plt.plot(history.history['acc'])\n",
    "# plt.plot(history.history['val_acc'])\n",
    "# plt.title('model accuracy')\n",
    "# plt.ylabel('accuracy')\n",
    "# plt.xlabel('epoch')\n",
    "# plt.legend(['train', 'test'], loc='upper left')\n",
    "# plt.show()\n",
    "# # summarize history for loss\n",
    "# plt.plot(history.history['loss'])\n",
    "# plt.plot(history.history['val_loss'])\n",
    "# plt.title('model loss')\n",
    "# plt.ylabel('loss')\n",
    "# plt.xlabel('epoch')\n",
    "# plt.legend(['train', 'test'], loc='upper left')\n",
    "# plt.show()"
   ]
  },
  {
   "cell_type": "code",
   "execution_count": null,
   "metadata": {},
   "outputs": [],
   "source": [
    "_, result = model.evaluate(X_test, Y_test)\n",
    "print('RMSE: %.2f' % (result))"
   ]
  }
 ],
 "metadata": {
  "kernelspec": {
   "display_name": "Python [conda env:py3] *",
   "language": "python",
   "name": "conda-env-py3-py"
  },
  "language_info": {
   "codemirror_mode": {
    "name": "ipython",
    "version": 3
   },
   "file_extension": ".py",
   "mimetype": "text/x-python",
   "name": "python",
   "nbconvert_exporter": "python",
   "pygments_lexer": "ipython3",
   "version": "3.7.3"
  }
 },
 "nbformat": 4,
 "nbformat_minor": 2
}
